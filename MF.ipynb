{
 "cells": [
  {
   "cell_type": "code",
   "execution_count": 1,
   "metadata": {
    "ExecuteTime": {
     "end_time": "2019-11-08T10:34:05.237809Z",
     "start_time": "2019-11-08T10:34:05.163219Z"
    }
   },
   "outputs": [],
   "source": [
    "import numpy as np\n",
    "import os\n",
    "DATASETS='DBLP'\n",
    "#DATASETS='Movie'\n",
    "#DATASETS='Foursquare'\n",
    "walks=np.load(os.path.join('EmbeddingData',DATASETS+'walks.npy'))\n",
    "#print(walks[0])"
   ]
  },
  {
   "cell_type": "code",
   "execution_count": 2,
   "metadata": {
    "ExecuteTime": {
     "end_time": "2019-11-08T10:34:05.245607Z",
     "start_time": "2019-11-08T10:34:05.239901Z"
    }
   },
   "outputs": [],
   "source": [
    "def pairs(k,line,dic,word_dic):#k=window_size\n",
    "    for index,w in enumerate(line):\n",
    "        c_list=line[max(0,index-k):min(len(line)-1,index+k)]\n",
    "        for c in c_list:\n",
    "            if c!=w:\n",
    "                if str([w,c]) in dic:\n",
    "                    dic[str([w,c])]+=1\n",
    "                else:\n",
    "                    dic[str([w,c])]=1\n",
    "            else:\n",
    "                pass\n",
    "        if w in nword:\n",
    "            word_dic[w]+=1\n",
    "        else:\n",
    "            word_dic[w]=1\n",
    "    return 0"
   ]
  },
  {
   "cell_type": "code",
   "execution_count": 3,
   "metadata": {
    "ExecuteTime": {
     "end_time": "2019-11-08T10:35:55.473357Z",
     "start_time": "2019-11-08T10:34:05.247119Z"
    }
   },
   "outputs": [
    {
     "name": "stderr",
     "output_type": "stream",
     "text": [
      "100%|██████████| 15649/15649 [01:50<00:00, 141.99it/s]"
     ]
    },
    {
     "name": "stdout",
     "output_type": "stream",
     "text": [
      "15649\n"
     ]
    },
    {
     "name": "stderr",
     "output_type": "stream",
     "text": [
      "\n"
     ]
    }
   ],
   "source": [
    "import threading\n",
    "from tqdm import tqdm\n",
    "\n",
    "nword={}\n",
    "pairs_dic={}\n",
    "for line in tqdm(walks):\n",
    "    threading.Thread(target=pairs, args=(10,line,pairs_dic,nword)).start()\n",
    "print(len(nword))"
   ]
  },
  {
   "cell_type": "code",
   "execution_count": 5,
   "metadata": {
    "ExecuteTime": {
     "end_time": "2019-11-08T10:39:56.912053Z",
     "start_time": "2019-11-08T10:39:51.243267Z"
    }
   },
   "outputs": [],
   "source": [
    "np.save(os.path.join('EmbeddingData',DATASETS+'w_c_mat.npy'),pairs_dic)\n",
    "np.save(os.path.join('EmbeddingData',DATASETS+'nword.npy'),nword)"
   ]
  },
  {
   "cell_type": "code",
   "execution_count": 6,
   "metadata": {
    "ExecuteTime": {
     "end_time": "2019-11-08T10:45:20.947210Z",
     "start_time": "2019-11-08T10:40:13.623260Z"
    }
   },
   "outputs": [
    {
     "name": "stderr",
     "output_type": "stream",
     "text": [
      "15649it [05:05, 51.15it/s]\n"
     ]
    }
   ],
   "source": [
    "import numpy as np\n",
    "import math\n",
    "data = np.zeros((len(nword),len(nword)))\n",
    "for i,row in tqdm(enumerate(nword)):\n",
    "    for j,col in enumerate(nword):\n",
    "        if str([row,col]) in pairs_dic:\n",
    "            data[i][j]=math.log(pairs_dic[str([row,col])]*len(pairs_dic)/(5*nword[row]*nword[col]))\n",
    "#             if data[i][j]<1e-5:\n",
    "#                 data[i][j]=0\n",
    "        else:\n",
    "            data[i][j]=0                 \n",
    "data=np.mat(data)\n",
    "np.save(os.path.join('EmbeddingData',DATASETS+'logM.npy'),data)"
   ]
  },
  {
   "cell_type": "code",
   "execution_count": 8,
   "metadata": {
    "ExecuteTime": {
     "end_time": "2019-11-08T10:47:08.831188Z",
     "start_time": "2019-11-08T10:47:07.909814Z"
    }
   },
   "outputs": [],
   "source": [
    "data=np.load(os.path.join('EmbeddingData',DATASETS+'logM.npy'))"
   ]
  },
  {
   "cell_type": "code",
   "execution_count": 11,
   "metadata": {
    "ExecuteTime": {
     "end_time": "2019-11-08T10:47:41.853381Z",
     "start_time": "2019-11-08T10:47:41.833183Z"
    }
   },
   "outputs": [
    {
     "name": "stderr",
     "output_type": "stream",
     "text": [
      "100%|██████████| 15649/15649 [00:00<00:00, 2000203.06it/s]"
     ]
    },
    {
     "name": "stdout",
     "output_type": "stream",
     "text": [
      "['a4059', 'p4058', 'p6427', 't13346', 'p7329', 't11196', 'p9834', 'a1475', 'p9796', 'p9057']\n"
     ]
    },
    {
     "name": "stderr",
     "output_type": "stream",
     "text": [
      "\n"
     ]
    }
   ],
   "source": [
    "name=[]\n",
    "for i in tqdm(nword):\n",
    "    name.append(i)\n",
    "print(name[0:10])\n",
    "np.save(os.path.join('EmbeddingData',DATASETS+'new_id'),name)"
   ]
  },
  {
   "cell_type": "code",
   "execution_count": 12,
   "metadata": {
    "ExecuteTime": {
     "end_time": "2019-11-08T10:47:53.651056Z",
     "start_time": "2019-11-08T10:47:52.102951Z"
    }
   },
   "outputs": [
    {
     "name": "stdout",
     "output_type": "stream",
     "text": [
      "totally cost 1.540910243988037\n"
     ]
    }
   ],
   "source": [
    "import time\n",
    "from fbpca import diffsnorms, pca\n",
    "from numpy import diag  \n",
    "tag=2\n",
    "if tag==1:\n",
    "    u,sigma,vT=np.linalg.svd(data,full_matrices=1,compute_uv=1)\n",
    "    print(data.shape)\n",
    "else:\n",
    "    time_start=time.time()\n",
    "    (u,sigma,vT) = pca(data, 128, True)\n",
    "    time_end=time.time()\n",
    "    print('totally cost',time_end-time_start)"
   ]
  },
  {
   "cell_type": "code",
   "execution_count": 13,
   "metadata": {
    "ExecuteTime": {
     "end_time": "2019-11-08T10:48:32.010044Z",
     "start_time": "2019-11-08T10:48:31.952419Z"
    }
   },
   "outputs": [],
   "source": [
    "np.save(os.path.join('EmbeddingData',DATASETS+'emb_u.npy'),np.dot(u,np.sqrt(np.diag(sigma))))\n",
    "np.save(os.path.join('EmbeddingData',DATASETS+'emb_v.npy'),np.dot(vT.T,np.sqrt(np.diag(sigma))))"
   ]
  },
  {
   "cell_type": "code",
   "execution_count": null,
   "metadata": {},
   "outputs": [],
   "source": []
  }
 ],
 "metadata": {
  "kernelspec": {
   "display_name": "kwr_torch",
   "language": "python",
   "name": "kwr"
  },
  "language_info": {
   "codemirror_mode": {
    "name": "ipython",
    "version": 3
   },
   "file_extension": ".py",
   "mimetype": "text/x-python",
   "name": "python",
   "nbconvert_exporter": "python",
   "pygments_lexer": "ipython3",
   "version": "3.7.4"
  },
  "varInspector": {
   "cols": {
    "lenName": 16,
    "lenType": 16,
    "lenVar": 40
   },
   "kernels_config": {
    "python": {
     "delete_cmd_postfix": "",
     "delete_cmd_prefix": "del ",
     "library": "var_list.py",
     "varRefreshCmd": "print(var_dic_list())"
    },
    "r": {
     "delete_cmd_postfix": ") ",
     "delete_cmd_prefix": "rm(",
     "library": "var_list.r",
     "varRefreshCmd": "cat(var_dic_list()) "
    }
   },
   "types_to_exclude": [
    "module",
    "function",
    "builtin_function_or_method",
    "instance",
    "_Feature"
   ],
   "window_display": false
  }
 },
 "nbformat": 4,
 "nbformat_minor": 2
}
